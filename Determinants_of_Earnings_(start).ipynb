{
 "cells": [
  {
   "cell_type": "markdown",
   "metadata": {
    "id": "BHg0HZz-intQ"
   },
   "source": [
    "# Introduction"
   ]
  },
  {
   "cell_type": "markdown",
   "metadata": {
    "id": "V2RQkgAbiqJv"
   },
   "source": [
    "The National Longitudinal Survey of Youth 1997-2011 dataset is one of the most important databases available to social scientists working with US data. \n",
    "\n",
    "It allows scientists to look at the determinants of earnings as well as educational attainment and has incredible relevance for government policy. It can also shed light on politically sensitive issues like how different educational attainment and salaries are for people of different ethnicity, sex, and other factors. When we have a better understanding how these variables affect education and earnings we can also formulate more suitable government policies. \n",
    "\n",
    "<center><img src=https://i.imgur.com/cxBpQ3I.png height=400></center>\n"
   ]
  },
  {
   "cell_type": "markdown",
   "metadata": {
    "id": "YjCPWWUSirY_"
   },
   "source": [
    "### Upgrade Plotly"
   ]
  },
  {
   "cell_type": "code",
   "execution_count": 1,
   "metadata": {
    "id": "v74l3QCGirIX"
   },
   "outputs": [
    {
     "name": "stdout",
     "output_type": "stream",
     "text": [
      "Requirement already satisfied: plotly in /Library/Frameworks/Python.framework/Versions/3.11/lib/python3.11/site-packages (5.19.0)\n",
      "Requirement already satisfied: tenacity>=6.2.0 in /Library/Frameworks/Python.framework/Versions/3.11/lib/python3.11/site-packages (from plotly) (8.2.3)\n",
      "Requirement already satisfied: packaging in /Users/ebojackson/Library/Python/3.11/lib/python/site-packages (from plotly) (23.1)\n",
      "Note: you may need to restart the kernel to use updated packages.\n",
      "Requirement already satisfied: pip in /Library/Frameworks/Python.framework/Versions/3.11/lib/python3.11/site-packages (24.0)\n",
      "Note: you may need to restart the kernel to use updated packages.\n",
      "Requirement already satisfied: plotly in /Library/Frameworks/Python.framework/Versions/3.11/lib/python3.11/site-packages (5.19.0)\n",
      "Requirement already satisfied: tenacity>=6.2.0 in /Library/Frameworks/Python.framework/Versions/3.11/lib/python3.11/site-packages (from plotly) (8.2.3)\n",
      "Requirement already satisfied: packaging in /Users/ebojackson/Library/Python/3.11/lib/python/site-packages (from plotly) (23.1)\n",
      "Note: you may need to restart the kernel to use updated packages.\n",
      "Requirement already satisfied: seaborn in /Library/Frameworks/Python.framework/Versions/3.11/lib/python3.11/site-packages (0.13.2)\n",
      "Requirement already satisfied: numpy!=1.24.0,>=1.20 in /Library/Frameworks/Python.framework/Versions/3.11/lib/python3.11/site-packages (from seaborn) (1.25.2)\n",
      "Requirement already satisfied: pandas>=1.2 in /Library/Frameworks/Python.framework/Versions/3.11/lib/python3.11/site-packages (from seaborn) (2.0.3)\n",
      "Requirement already satisfied: matplotlib!=3.6.1,>=3.4 in /Library/Frameworks/Python.framework/Versions/3.11/lib/python3.11/site-packages (from seaborn) (3.8.3)\n",
      "Requirement already satisfied: contourpy>=1.0.1 in /Library/Frameworks/Python.framework/Versions/3.11/lib/python3.11/site-packages (from matplotlib!=3.6.1,>=3.4->seaborn) (1.2.0)\n",
      "Requirement already satisfied: cycler>=0.10 in /Library/Frameworks/Python.framework/Versions/3.11/lib/python3.11/site-packages (from matplotlib!=3.6.1,>=3.4->seaborn) (0.12.1)\n",
      "Requirement already satisfied: fonttools>=4.22.0 in /Library/Frameworks/Python.framework/Versions/3.11/lib/python3.11/site-packages (from matplotlib!=3.6.1,>=3.4->seaborn) (4.49.0)\n",
      "Requirement already satisfied: kiwisolver>=1.3.1 in /Library/Frameworks/Python.framework/Versions/3.11/lib/python3.11/site-packages (from matplotlib!=3.6.1,>=3.4->seaborn) (1.4.5)\n",
      "Requirement already satisfied: packaging>=20.0 in /Users/ebojackson/Library/Python/3.11/lib/python/site-packages (from matplotlib!=3.6.1,>=3.4->seaborn) (23.1)\n",
      "Requirement already satisfied: pillow>=8 in /Library/Frameworks/Python.framework/Versions/3.11/lib/python3.11/site-packages (from matplotlib!=3.6.1,>=3.4->seaborn) (10.0.0)\n",
      "Requirement already satisfied: pyparsing>=2.3.1 in /Library/Frameworks/Python.framework/Versions/3.11/lib/python3.11/site-packages (from matplotlib!=3.6.1,>=3.4->seaborn) (3.1.1)\n",
      "Requirement already satisfied: python-dateutil>=2.7 in /Users/ebojackson/Library/Python/3.11/lib/python/site-packages (from matplotlib!=3.6.1,>=3.4->seaborn) (2.8.2)\n",
      "Requirement already satisfied: pytz>=2020.1 in /Library/Frameworks/Python.framework/Versions/3.11/lib/python3.11/site-packages (from pandas>=1.2->seaborn) (2023.3)\n",
      "Requirement already satisfied: tzdata>=2022.1 in /Library/Frameworks/Python.framework/Versions/3.11/lib/python3.11/site-packages (from pandas>=1.2->seaborn) (2023.3)\n",
      "Requirement already satisfied: six>=1.5 in /Users/ebojackson/Library/Python/3.11/lib/python/site-packages (from python-dateutil>=2.7->matplotlib!=3.6.1,>=3.4->seaborn) (1.16.0)\n",
      "Note: you may need to restart the kernel to use updated packages.\n",
      "Requirement already satisfied: matplotlib in /Library/Frameworks/Python.framework/Versions/3.11/lib/python3.11/site-packages (3.8.3)\n",
      "Requirement already satisfied: contourpy>=1.0.1 in /Library/Frameworks/Python.framework/Versions/3.11/lib/python3.11/site-packages (from matplotlib) (1.2.0)\n",
      "Requirement already satisfied: cycler>=0.10 in /Library/Frameworks/Python.framework/Versions/3.11/lib/python3.11/site-packages (from matplotlib) (0.12.1)\n",
      "Requirement already satisfied: fonttools>=4.22.0 in /Library/Frameworks/Python.framework/Versions/3.11/lib/python3.11/site-packages (from matplotlib) (4.49.0)\n",
      "Requirement already satisfied: kiwisolver>=1.3.1 in /Library/Frameworks/Python.framework/Versions/3.11/lib/python3.11/site-packages (from matplotlib) (1.4.5)\n",
      "Requirement already satisfied: numpy<2,>=1.21 in /Library/Frameworks/Python.framework/Versions/3.11/lib/python3.11/site-packages (from matplotlib) (1.25.2)\n",
      "Requirement already satisfied: packaging>=20.0 in /Users/ebojackson/Library/Python/3.11/lib/python/site-packages (from matplotlib) (23.1)\n",
      "Requirement already satisfied: pillow>=8 in /Library/Frameworks/Python.framework/Versions/3.11/lib/python3.11/site-packages (from matplotlib) (10.0.0)\n",
      "Requirement already satisfied: pyparsing>=2.3.1 in /Library/Frameworks/Python.framework/Versions/3.11/lib/python3.11/site-packages (from matplotlib) (3.1.1)\n",
      "Requirement already satisfied: python-dateutil>=2.7 in /Users/ebojackson/Library/Python/3.11/lib/python/site-packages (from matplotlib) (2.8.2)\n",
      "Requirement already satisfied: six>=1.5 in /Users/ebojackson/Library/Python/3.11/lib/python/site-packages (from python-dateutil>=2.7->matplotlib) (1.16.0)\n",
      "Note: you may need to restart the kernel to use updated packages.\n",
      "Requirement already satisfied: scikit-learn in /Library/Frameworks/Python.framework/Versions/3.11/lib/python3.11/site-packages (1.4.1.post1)\n",
      "Requirement already satisfied: numpy<2.0,>=1.19.5 in /Library/Frameworks/Python.framework/Versions/3.11/lib/python3.11/site-packages (from scikit-learn) (1.25.2)\n",
      "Requirement already satisfied: scipy>=1.6.0 in /Library/Frameworks/Python.framework/Versions/3.11/lib/python3.11/site-packages (from scikit-learn) (1.12.0)\n",
      "Requirement already satisfied: joblib>=1.2.0 in /Library/Frameworks/Python.framework/Versions/3.11/lib/python3.11/site-packages (from scikit-learn) (1.3.2)\n",
      "Requirement already satisfied: threadpoolctl>=2.0.0 in /Library/Frameworks/Python.framework/Versions/3.11/lib/python3.11/site-packages (from scikit-learn) (3.3.0)\n",
      "Note: you may need to restart the kernel to use updated packages.\n",
      "\n",
      "Usage:   \n",
      "  /usr/local/bin/python3 -m pip install [options] <requirement specifier> [package-index-options] ...\n",
      "  /usr/local/bin/python3 -m pip install [options] -r <requirements file> [package-index-options] ...\n",
      "  /usr/local/bin/python3 -m pip install [options] [-e] <vcs project url> ...\n",
      "  /usr/local/bin/python3 -m pip install [options] [-e] <local project path> ...\n",
      "  /usr/local/bin/python3 -m pip install [options] <archive url/path> ...\n",
      "\n",
      "no such option: --install\n",
      "Note: you may need to restart the kernel to use updated packages.\n"
     ]
    }
   ],
   "source": [
    "%pip install --upgrade plotly\n",
    "%pip install --upgrade pip\n",
    "%pip install --upgrade plotly\n",
    "%pip install --upgrade seaborn\n",
    "%pip install --upgrade matplotlib\n",
    "%pip install --upgrade scikit-learn\n",
    "%pip install --install nbformat\n"
   ]
  },
  {
   "cell_type": "markdown",
   "metadata": {
    "id": "br_QkHBMjC1Q"
   },
   "source": [
    "###  Import Statements\n"
   ]
  },
  {
   "cell_type": "code",
   "execution_count": 1,
   "metadata": {
    "id": "gSKZx-kwie_u"
   },
   "outputs": [],
   "source": [
    "import pandas as pd\n",
    "import numpy as np\n",
    "\n",
    "import seaborn as sns\n",
    "import plotly.express as px\n",
    "import matplotlib.pyplot as plt\n",
    "\n",
    "from sklearn.linear_model import LinearRegression\n",
    "from sklearn.model_selection import train_test_split"
   ]
  },
  {
   "cell_type": "markdown",
   "metadata": {
    "id": "9pgsrth_izCn"
   },
   "source": [
    "## Notebook Presentation"
   ]
  },
  {
   "cell_type": "code",
   "execution_count": 2,
   "metadata": {
    "id": "Cgwu-WbBizqY"
   },
   "outputs": [],
   "source": [
    "pd.options.display.float_format = '{:,.2f}'.format"
   ]
  },
  {
   "cell_type": "markdown",
   "metadata": {
    "id": "E5bhysOOjLRr"
   },
   "source": [
    "# Load the Data\n",
    "\n"
   ]
  },
  {
   "cell_type": "code",
   "execution_count": 3,
   "metadata": {
    "id": "6VngeTQwjM-X"
   },
   "outputs": [],
   "source": [
    "df_data = pd.read_csv('NLSY97_subset.csv')"
   ]
  },
  {
   "cell_type": "markdown",
   "metadata": {
    "id": "_ZjIBJ5jjrj0"
   },
   "source": [
    "### Understand the Dataset\n",
    "\n",
    "Have a look at the file entitled `NLSY97_Variable_Names_and_Descriptions.csv`. \n",
    "\n",
    "---------------------------\n",
    "\n",
    "    :Key Variables:  \n",
    "      1. S           Years of schooling (highest grade completed as of 2011)\n",
    "      2. EXP         Total out-of-school work experience (years) as of the 2011 interview.\n",
    "      3. EARNINGS    Current hourly earnings in $ reported at the 2011 interview"
   ]
  },
  {
   "cell_type": "markdown",
   "metadata": {
    "id": "8MkSxkjVnIfW"
   },
   "source": [
    "# Preliminary Data Exploration 🔎\n",
    "\n",
    "**Challenge**\n",
    "\n",
    "* What is the shape of `df_data`? \n",
    "* How many rows and columns does it have?\n",
    "* What are the column names?\n",
    "* Are there any NaN values or duplicates?"
   ]
  },
  {
   "cell_type": "code",
   "execution_count": 4,
   "metadata": {
    "id": "V_cQguBbjwZv"
   },
   "outputs": [
    {
     "data": {
      "text/plain": [
       "(2000, 96)"
      ]
     },
     "execution_count": 4,
     "metadata": {},
     "output_type": "execute_result"
    }
   ],
   "source": [
    "df_data.shape"
   ]
  },
  {
   "cell_type": "code",
   "execution_count": 5,
   "metadata": {},
   "outputs": [
    {
     "data": {
      "text/plain": [
       "Index(['ID', 'EARNINGS', 'S', 'EXP', 'FEMALE', 'MALE', 'BYEAR', 'AGE',\n",
       "       'AGEMBTH', 'HHINC97', 'POVRAT97', 'HHBMBF', 'HHBMOF', 'HHOMBF',\n",
       "       'HHBMONLY', 'HHBFONLY', 'HHOTHER', 'MSA97NO', 'MSA97NCC', 'MSA97CC',\n",
       "       'MSA97NK', 'ETHBLACK', 'ETHHISP', 'ETHWHITE', 'EDUCPROF', 'EDUCPHD',\n",
       "       'EDUCMAST', 'EDUCBA', 'EDUCAA', 'EDUCHSD', 'EDUCGED', 'EDUCDO',\n",
       "       'PRMONM', 'PRMONF', 'PRMSTYUN', 'PRMSTYPE', 'PRMSTYAN', 'PRMSTYAE',\n",
       "       'PRFSTYUN', 'PRFSTYPE', 'PRFSTYAN', 'PRFSTYAE', 'SINGLE', 'MARRIED',\n",
       "       'COHABIT', 'OTHSING', 'FAITHN', 'FAITHP', 'FAITHC', 'FAITHJ', 'FAITHO',\n",
       "       'FAITHM', 'ASVABAR', 'ASVABWK', 'ASVABPC', 'ASVABMK', 'ASVABNO',\n",
       "       'ASVABCS', 'ASVABC', 'ASVABC4', 'VERBAL', 'ASVABMV', 'HEIGHT',\n",
       "       'WEIGHT04', 'WEIGHT11', 'SF', 'SM', 'SFR', 'SMR', 'SIBLINGS', 'REG97NE',\n",
       "       'REG97NC', 'REG97S', 'REG97W', 'RS97RURL', 'RS97URBN', 'RS97UNKN',\n",
       "       'JOBS', 'HOURS', 'TENURE', 'CATGOV', 'CATPRI', 'CATNPO', 'CATMIS',\n",
       "       'CATSE', 'COLLBARG', 'URBAN', 'REGNE', 'REGNC', 'REGW', 'REGS',\n",
       "       'MSA11NO', 'MSA11NCC', 'MSA11CC', 'MSA11NK', 'MSA11NIC'],\n",
       "      dtype='object')"
      ]
     },
     "execution_count": 5,
     "metadata": {},
     "output_type": "execute_result"
    }
   ],
   "source": [
    "df_data.columns"
   ]
  },
  {
   "cell_type": "code",
   "execution_count": 6,
   "metadata": {},
   "outputs": [
    {
     "data": {
      "text/plain": [
       "True"
      ]
     },
     "execution_count": 6,
     "metadata": {},
     "output_type": "execute_result"
    }
   ],
   "source": [
    "df_data.isna().values.any()"
   ]
  },
  {
   "cell_type": "code",
   "execution_count": 7,
   "metadata": {},
   "outputs": [
    {
     "data": {
      "text/plain": [
       "True"
      ]
     },
     "execution_count": 7,
     "metadata": {},
     "output_type": "execute_result"
    }
   ],
   "source": [
    "df_data.duplicated().values.any()"
   ]
  },
  {
   "cell_type": "code",
   "execution_count": 9,
   "metadata": {},
   "outputs": [
    {
     "data": {
      "text/plain": [
       "ID          2000\n",
       "EARNINGS    2000\n",
       "S           2000\n",
       "EXP         2000\n",
       "FEMALE      2000\n",
       "            ... \n",
       "MSA11NO     2000\n",
       "MSA11NCC    2000\n",
       "MSA11CC     2000\n",
       "MSA11NK     2000\n",
       "MSA11NIC    2000\n",
       "Length: 96, dtype: int64"
      ]
     },
     "execution_count": 9,
     "metadata": {},
     "output_type": "execute_result"
    }
   ],
   "source": [
    "df_data.count()"
   ]
  },
  {
   "cell_type": "markdown",
   "metadata": {
    "id": "4itxqgP6nQj3"
   },
   "source": [
    "## Data Cleaning - Check for Missing Values and Duplicates\n",
    "\n",
    "Find and remove any duplicate rows."
   ]
  },
  {
   "cell_type": "code",
   "execution_count": 10,
   "metadata": {
    "id": "J3DHEFXWnS2N"
   },
   "outputs": [],
   "source": [
    "df_data.drop_duplicates(inplace=True)"
   ]
  },
  {
   "cell_type": "code",
   "execution_count": 11,
   "metadata": {},
   "outputs": [
    {
     "data": {
      "text/plain": [
       "(1487, 96)"
      ]
     },
     "execution_count": 11,
     "metadata": {},
     "output_type": "execute_result"
    }
   ],
   "source": [
    "df_data.shape"
   ]
  },
  {
   "cell_type": "markdown",
   "metadata": {
    "id": "gGmBBPxZnVKC"
   },
   "source": [
    "## Descriptive Statistics"
   ]
  },
  {
   "cell_type": "code",
   "execution_count": 12,
   "metadata": {
    "id": "I5VP2BMVnVrt"
   },
   "outputs": [
    {
     "data": {
      "text/html": [
       "<div>\n",
       "<style scoped>\n",
       "    .dataframe tbody tr th:only-of-type {\n",
       "        vertical-align: middle;\n",
       "    }\n",
       "\n",
       "    .dataframe tbody tr th {\n",
       "        vertical-align: top;\n",
       "    }\n",
       "\n",
       "    .dataframe thead th {\n",
       "        text-align: right;\n",
       "    }\n",
       "</style>\n",
       "<table border=\"1\" class=\"dataframe\">\n",
       "  <thead>\n",
       "    <tr style=\"text-align: right;\">\n",
       "      <th></th>\n",
       "      <th>ID</th>\n",
       "      <th>EARNINGS</th>\n",
       "      <th>S</th>\n",
       "      <th>EXP</th>\n",
       "      <th>FEMALE</th>\n",
       "      <th>MALE</th>\n",
       "      <th>BYEAR</th>\n",
       "      <th>AGE</th>\n",
       "      <th>AGEMBTH</th>\n",
       "      <th>HHINC97</th>\n",
       "      <th>...</th>\n",
       "      <th>URBAN</th>\n",
       "      <th>REGNE</th>\n",
       "      <th>REGNC</th>\n",
       "      <th>REGW</th>\n",
       "      <th>REGS</th>\n",
       "      <th>MSA11NO</th>\n",
       "      <th>MSA11NCC</th>\n",
       "      <th>MSA11CC</th>\n",
       "      <th>MSA11NK</th>\n",
       "      <th>MSA11NIC</th>\n",
       "    </tr>\n",
       "  </thead>\n",
       "  <tbody>\n",
       "    <tr>\n",
       "      <th>count</th>\n",
       "      <td>1,487.00</td>\n",
       "      <td>1,487.00</td>\n",
       "      <td>1,487.00</td>\n",
       "      <td>1,487.00</td>\n",
       "      <td>1,487.00</td>\n",
       "      <td>1,487.00</td>\n",
       "      <td>1,487.00</td>\n",
       "      <td>1,487.00</td>\n",
       "      <td>1,453.00</td>\n",
       "      <td>1,205.00</td>\n",
       "      <td>...</td>\n",
       "      <td>1,487.00</td>\n",
       "      <td>1,487.00</td>\n",
       "      <td>1,487.00</td>\n",
       "      <td>1,487.00</td>\n",
       "      <td>1,487.00</td>\n",
       "      <td>1,487.00</td>\n",
       "      <td>1,487.00</td>\n",
       "      <td>1,487.00</td>\n",
       "      <td>1,487.00</td>\n",
       "      <td>1,487.00</td>\n",
       "    </tr>\n",
       "    <tr>\n",
       "      <th>mean</th>\n",
       "      <td>3,547.13</td>\n",
       "      <td>18.81</td>\n",
       "      <td>14.56</td>\n",
       "      <td>6.70</td>\n",
       "      <td>0.49</td>\n",
       "      <td>0.51</td>\n",
       "      <td>1,982.07</td>\n",
       "      <td>28.93</td>\n",
       "      <td>26.32</td>\n",
       "      <td>58,310.67</td>\n",
       "      <td>...</td>\n",
       "      <td>0.78</td>\n",
       "      <td>0.16</td>\n",
       "      <td>0.27</td>\n",
       "      <td>0.34</td>\n",
       "      <td>0.23</td>\n",
       "      <td>0.05</td>\n",
       "      <td>0.54</td>\n",
       "      <td>0.41</td>\n",
       "      <td>0.00</td>\n",
       "      <td>0.00</td>\n",
       "    </tr>\n",
       "    <tr>\n",
       "      <th>std</th>\n",
       "      <td>2,009.84</td>\n",
       "      <td>12.00</td>\n",
       "      <td>2.77</td>\n",
       "      <td>2.86</td>\n",
       "      <td>0.50</td>\n",
       "      <td>0.50</td>\n",
       "      <td>1.38</td>\n",
       "      <td>1.38</td>\n",
       "      <td>5.08</td>\n",
       "      <td>43,868.05</td>\n",
       "      <td>...</td>\n",
       "      <td>0.43</td>\n",
       "      <td>0.36</td>\n",
       "      <td>0.44</td>\n",
       "      <td>0.47</td>\n",
       "      <td>0.42</td>\n",
       "      <td>0.21</td>\n",
       "      <td>0.50</td>\n",
       "      <td>0.49</td>\n",
       "      <td>0.04</td>\n",
       "      <td>0.00</td>\n",
       "    </tr>\n",
       "    <tr>\n",
       "      <th>min</th>\n",
       "      <td>1.00</td>\n",
       "      <td>2.00</td>\n",
       "      <td>6.00</td>\n",
       "      <td>0.00</td>\n",
       "      <td>0.00</td>\n",
       "      <td>0.00</td>\n",
       "      <td>1,980.00</td>\n",
       "      <td>27.00</td>\n",
       "      <td>12.00</td>\n",
       "      <td>0.00</td>\n",
       "      <td>...</td>\n",
       "      <td>0.00</td>\n",
       "      <td>0.00</td>\n",
       "      <td>0.00</td>\n",
       "      <td>0.00</td>\n",
       "      <td>0.00</td>\n",
       "      <td>0.00</td>\n",
       "      <td>0.00</td>\n",
       "      <td>0.00</td>\n",
       "      <td>0.00</td>\n",
       "      <td>0.00</td>\n",
       "    </tr>\n",
       "    <tr>\n",
       "      <th>25%</th>\n",
       "      <td>1,888.00</td>\n",
       "      <td>11.41</td>\n",
       "      <td>12.00</td>\n",
       "      <td>4.65</td>\n",
       "      <td>0.00</td>\n",
       "      <td>0.00</td>\n",
       "      <td>1,981.00</td>\n",
       "      <td>28.00</td>\n",
       "      <td>23.00</td>\n",
       "      <td>32,000.00</td>\n",
       "      <td>...</td>\n",
       "      <td>1.00</td>\n",
       "      <td>0.00</td>\n",
       "      <td>0.00</td>\n",
       "      <td>0.00</td>\n",
       "      <td>0.00</td>\n",
       "      <td>0.00</td>\n",
       "      <td>0.00</td>\n",
       "      <td>0.00</td>\n",
       "      <td>0.00</td>\n",
       "      <td>0.00</td>\n",
       "    </tr>\n",
       "    <tr>\n",
       "      <th>50%</th>\n",
       "      <td>3,474.00</td>\n",
       "      <td>15.75</td>\n",
       "      <td>15.00</td>\n",
       "      <td>6.63</td>\n",
       "      <td>0.00</td>\n",
       "      <td>1.00</td>\n",
       "      <td>1,982.00</td>\n",
       "      <td>29.00</td>\n",
       "      <td>26.00</td>\n",
       "      <td>50,500.00</td>\n",
       "      <td>...</td>\n",
       "      <td>1.00</td>\n",
       "      <td>0.00</td>\n",
       "      <td>0.00</td>\n",
       "      <td>0.00</td>\n",
       "      <td>0.00</td>\n",
       "      <td>0.00</td>\n",
       "      <td>1.00</td>\n",
       "      <td>0.00</td>\n",
       "      <td>0.00</td>\n",
       "      <td>0.00</td>\n",
       "    </tr>\n",
       "    <tr>\n",
       "      <th>75%</th>\n",
       "      <td>5,160.50</td>\n",
       "      <td>22.60</td>\n",
       "      <td>16.00</td>\n",
       "      <td>8.71</td>\n",
       "      <td>1.00</td>\n",
       "      <td>1.00</td>\n",
       "      <td>1,983.00</td>\n",
       "      <td>30.00</td>\n",
       "      <td>30.00</td>\n",
       "      <td>72,000.00</td>\n",
       "      <td>...</td>\n",
       "      <td>1.00</td>\n",
       "      <td>0.00</td>\n",
       "      <td>1.00</td>\n",
       "      <td>1.00</td>\n",
       "      <td>0.00</td>\n",
       "      <td>0.00</td>\n",
       "      <td>1.00</td>\n",
       "      <td>1.00</td>\n",
       "      <td>0.00</td>\n",
       "      <td>0.00</td>\n",
       "    </tr>\n",
       "    <tr>\n",
       "      <th>max</th>\n",
       "      <td>8,980.00</td>\n",
       "      <td>132.89</td>\n",
       "      <td>20.00</td>\n",
       "      <td>14.73</td>\n",
       "      <td>1.00</td>\n",
       "      <td>1.00</td>\n",
       "      <td>1,984.00</td>\n",
       "      <td>31.00</td>\n",
       "      <td>45.00</td>\n",
       "      <td>246,474.00</td>\n",
       "      <td>...</td>\n",
       "      <td>2.00</td>\n",
       "      <td>1.00</td>\n",
       "      <td>1.00</td>\n",
       "      <td>1.00</td>\n",
       "      <td>1.00</td>\n",
       "      <td>1.00</td>\n",
       "      <td>1.00</td>\n",
       "      <td>1.00</td>\n",
       "      <td>1.00</td>\n",
       "      <td>0.00</td>\n",
       "    </tr>\n",
       "  </tbody>\n",
       "</table>\n",
       "<p>8 rows × 96 columns</p>\n",
       "</div>"
      ],
      "text/plain": [
       "            ID  EARNINGS        S      EXP   FEMALE     MALE    BYEAR  \\\n",
       "count 1,487.00  1,487.00 1,487.00 1,487.00 1,487.00 1,487.00 1,487.00   \n",
       "mean  3,547.13     18.81    14.56     6.70     0.49     0.51 1,982.07   \n",
       "std   2,009.84     12.00     2.77     2.86     0.50     0.50     1.38   \n",
       "min       1.00      2.00     6.00     0.00     0.00     0.00 1,980.00   \n",
       "25%   1,888.00     11.41    12.00     4.65     0.00     0.00 1,981.00   \n",
       "50%   3,474.00     15.75    15.00     6.63     0.00     1.00 1,982.00   \n",
       "75%   5,160.50     22.60    16.00     8.71     1.00     1.00 1,983.00   \n",
       "max   8,980.00    132.89    20.00    14.73     1.00     1.00 1,984.00   \n",
       "\n",
       "           AGE  AGEMBTH    HHINC97  ...    URBAN    REGNE    REGNC     REGW  \\\n",
       "count 1,487.00 1,453.00   1,205.00  ... 1,487.00 1,487.00 1,487.00 1,487.00   \n",
       "mean     28.93    26.32  58,310.67  ...     0.78     0.16     0.27     0.34   \n",
       "std       1.38     5.08  43,868.05  ...     0.43     0.36     0.44     0.47   \n",
       "min      27.00    12.00       0.00  ...     0.00     0.00     0.00     0.00   \n",
       "25%      28.00    23.00  32,000.00  ...     1.00     0.00     0.00     0.00   \n",
       "50%      29.00    26.00  50,500.00  ...     1.00     0.00     0.00     0.00   \n",
       "75%      30.00    30.00  72,000.00  ...     1.00     0.00     1.00     1.00   \n",
       "max      31.00    45.00 246,474.00  ...     2.00     1.00     1.00     1.00   \n",
       "\n",
       "          REGS  MSA11NO  MSA11NCC  MSA11CC  MSA11NK  MSA11NIC  \n",
       "count 1,487.00 1,487.00  1,487.00 1,487.00 1,487.00  1,487.00  \n",
       "mean      0.23     0.05      0.54     0.41     0.00      0.00  \n",
       "std       0.42     0.21      0.50     0.49     0.04      0.00  \n",
       "min       0.00     0.00      0.00     0.00     0.00      0.00  \n",
       "25%       0.00     0.00      0.00     0.00     0.00      0.00  \n",
       "50%       0.00     0.00      1.00     0.00     0.00      0.00  \n",
       "75%       0.00     0.00      1.00     1.00     0.00      0.00  \n",
       "max       1.00     1.00      1.00     1.00     1.00      0.00  \n",
       "\n",
       "[8 rows x 96 columns]"
      ]
     },
     "execution_count": 12,
     "metadata": {},
     "output_type": "execute_result"
    }
   ],
   "source": [
    "df_data.describe()"
   ]
  },
  {
   "cell_type": "markdown",
   "metadata": {
    "id": "ZO-86NXbnWSH"
   },
   "source": [
    "## Visualise the Features"
   ]
  },
  {
   "cell_type": "code",
   "execution_count": 13,
   "metadata": {
    "id": "hFZJjbsKncPM"
   },
   "outputs": [
    {
     "data": {
      "text/html": [
       "<div>\n",
       "<style scoped>\n",
       "    .dataframe tbody tr th:only-of-type {\n",
       "        vertical-align: middle;\n",
       "    }\n",
       "\n",
       "    .dataframe tbody tr th {\n",
       "        vertical-align: top;\n",
       "    }\n",
       "\n",
       "    .dataframe thead th {\n",
       "        text-align: right;\n",
       "    }\n",
       "</style>\n",
       "<table border=\"1\" class=\"dataframe\">\n",
       "  <thead>\n",
       "    <tr style=\"text-align: right;\">\n",
       "      <th></th>\n",
       "      <th>ID</th>\n",
       "      <th>EARNINGS</th>\n",
       "      <th>S</th>\n",
       "      <th>EXP</th>\n",
       "      <th>FEMALE</th>\n",
       "      <th>MALE</th>\n",
       "      <th>BYEAR</th>\n",
       "      <th>AGE</th>\n",
       "      <th>AGEMBTH</th>\n",
       "      <th>HHINC97</th>\n",
       "      <th>...</th>\n",
       "      <th>URBAN</th>\n",
       "      <th>REGNE</th>\n",
       "      <th>REGNC</th>\n",
       "      <th>REGW</th>\n",
       "      <th>REGS</th>\n",
       "      <th>MSA11NO</th>\n",
       "      <th>MSA11NCC</th>\n",
       "      <th>MSA11CC</th>\n",
       "      <th>MSA11NK</th>\n",
       "      <th>MSA11NIC</th>\n",
       "    </tr>\n",
       "  </thead>\n",
       "  <tbody>\n",
       "    <tr>\n",
       "      <th>0</th>\n",
       "      <td>4275</td>\n",
       "      <td>18.50</td>\n",
       "      <td>12</td>\n",
       "      <td>9.71</td>\n",
       "      <td>0</td>\n",
       "      <td>1</td>\n",
       "      <td>1984</td>\n",
       "      <td>27</td>\n",
       "      <td>24.00</td>\n",
       "      <td>64,000.00</td>\n",
       "      <td>...</td>\n",
       "      <td>1</td>\n",
       "      <td>0</td>\n",
       "      <td>0</td>\n",
       "      <td>1</td>\n",
       "      <td>0</td>\n",
       "      <td>0</td>\n",
       "      <td>0</td>\n",
       "      <td>1</td>\n",
       "      <td>0</td>\n",
       "      <td>0</td>\n",
       "    </tr>\n",
       "    <tr>\n",
       "      <th>1</th>\n",
       "      <td>4328</td>\n",
       "      <td>19.23</td>\n",
       "      <td>17</td>\n",
       "      <td>5.71</td>\n",
       "      <td>0</td>\n",
       "      <td>1</td>\n",
       "      <td>1982</td>\n",
       "      <td>29</td>\n",
       "      <td>32.00</td>\n",
       "      <td>6,000.00</td>\n",
       "      <td>...</td>\n",
       "      <td>2</td>\n",
       "      <td>0</td>\n",
       "      <td>0</td>\n",
       "      <td>1</td>\n",
       "      <td>0</td>\n",
       "      <td>0</td>\n",
       "      <td>1</td>\n",
       "      <td>0</td>\n",
       "      <td>0</td>\n",
       "      <td>0</td>\n",
       "    </tr>\n",
       "    <tr>\n",
       "      <th>2</th>\n",
       "      <td>8763</td>\n",
       "      <td>39.05</td>\n",
       "      <td>14</td>\n",
       "      <td>9.94</td>\n",
       "      <td>0</td>\n",
       "      <td>1</td>\n",
       "      <td>1981</td>\n",
       "      <td>30</td>\n",
       "      <td>23.00</td>\n",
       "      <td>88,252.00</td>\n",
       "      <td>...</td>\n",
       "      <td>1</td>\n",
       "      <td>0</td>\n",
       "      <td>0</td>\n",
       "      <td>0</td>\n",
       "      <td>1</td>\n",
       "      <td>0</td>\n",
       "      <td>0</td>\n",
       "      <td>1</td>\n",
       "      <td>0</td>\n",
       "      <td>0</td>\n",
       "    </tr>\n",
       "    <tr>\n",
       "      <th>3</th>\n",
       "      <td>8879</td>\n",
       "      <td>16.80</td>\n",
       "      <td>18</td>\n",
       "      <td>1.54</td>\n",
       "      <td>0</td>\n",
       "      <td>1</td>\n",
       "      <td>1983</td>\n",
       "      <td>28</td>\n",
       "      <td>30.00</td>\n",
       "      <td>NaN</td>\n",
       "      <td>...</td>\n",
       "      <td>1</td>\n",
       "      <td>0</td>\n",
       "      <td>1</td>\n",
       "      <td>0</td>\n",
       "      <td>0</td>\n",
       "      <td>0</td>\n",
       "      <td>1</td>\n",
       "      <td>0</td>\n",
       "      <td>0</td>\n",
       "      <td>0</td>\n",
       "    </tr>\n",
       "    <tr>\n",
       "      <th>4</th>\n",
       "      <td>1994</td>\n",
       "      <td>36.06</td>\n",
       "      <td>15</td>\n",
       "      <td>2.94</td>\n",
       "      <td>0</td>\n",
       "      <td>1</td>\n",
       "      <td>1984</td>\n",
       "      <td>27</td>\n",
       "      <td>23.00</td>\n",
       "      <td>44,188.00</td>\n",
       "      <td>...</td>\n",
       "      <td>1</td>\n",
       "      <td>0</td>\n",
       "      <td>0</td>\n",
       "      <td>0</td>\n",
       "      <td>1</td>\n",
       "      <td>0</td>\n",
       "      <td>0</td>\n",
       "      <td>1</td>\n",
       "      <td>0</td>\n",
       "      <td>0</td>\n",
       "    </tr>\n",
       "  </tbody>\n",
       "</table>\n",
       "<p>5 rows × 96 columns</p>\n",
       "</div>"
      ],
      "text/plain": [
       "     ID  EARNINGS   S  EXP  FEMALE  MALE  BYEAR  AGE  AGEMBTH   HHINC97  ...  \\\n",
       "0  4275     18.50  12 9.71       0     1   1984   27    24.00 64,000.00  ...   \n",
       "1  4328     19.23  17 5.71       0     1   1982   29    32.00  6,000.00  ...   \n",
       "2  8763     39.05  14 9.94       0     1   1981   30    23.00 88,252.00  ...   \n",
       "3  8879     16.80  18 1.54       0     1   1983   28    30.00       NaN  ...   \n",
       "4  1994     36.06  15 2.94       0     1   1984   27    23.00 44,188.00  ...   \n",
       "\n",
       "   URBAN  REGNE  REGNC  REGW  REGS  MSA11NO  MSA11NCC  MSA11CC  MSA11NK  \\\n",
       "0      1      0      0     1     0        0         0        1        0   \n",
       "1      2      0      0     1     0        0         1        0        0   \n",
       "2      1      0      0     0     1        0         0        1        0   \n",
       "3      1      0      1     0     0        0         1        0        0   \n",
       "4      1      0      0     0     1        0         0        1        0   \n",
       "\n",
       "   MSA11NIC  \n",
       "0         0  \n",
       "1         0  \n",
       "2         0  \n",
       "3         0  \n",
       "4         0  \n",
       "\n",
       "[5 rows x 96 columns]"
      ]
     },
     "execution_count": 13,
     "metadata": {},
     "output_type": "execute_result"
    }
   ],
   "source": [
    "df_data.head()"
   ]
  },
  {
   "cell_type": "code",
   "execution_count": 14,
   "metadata": {},
   "outputs": [
    {
     "data": {
      "image/png": "[encoded data removed]",
      "text/plain": [
       "<Figure size 640x480 with 1 Axes>"
      ]
     },
     "metadata": {},
     "output_type": "display_data"
    }
   ],
   "source": [
    "# Using Matplotlin to visualise the Earnings \n",
    "plt.hist(x=df_data['S'],bins=100)\n",
    "plt.xlabel('Years of Schooling')\n",
    "plt.ylabel('Nr. of People')\n",
    "plt.title('The National Longitudinal Survey of Youth 1997-2011')\n",
    "plt.show()"
   ]
  },
  {
   "cell_type": "code",
   "execution_count": 15,
   "metadata": {},
   "outputs": [
    {
     "data": {
      "image/png": "[encoded data removed]",
      "text/plain": [
       "<Figure size 1000x500 with 1 Axes>"
      ]
     },
     "metadata": {},
     "output_type": "display_data"
    }
   ],
   "source": [
    "# Using Seaborn to visualise the Years of Schooling\n",
    "sns.displot(df_data['EXP'], \n",
    "            bins=50, \n",
    "            aspect=2,\n",
    "            kde=True, \n",
    "            color='#2196f3')\n",
    "\n",
    "plt.title(f'The National Longitudinal Survey of Youth 1997-2011')\n",
    "plt.xlabel('Years of Experience')\n",
    "plt.ylabel('Nr. of People')\n",
    "\n",
    "plt.show()"
   ]
  },
  {
   "cell_type": "code",
   "execution_count": 16,
   "metadata": {},
   "outputs": [
    {
     "data": {
      "application/vnd.plotly.v1+json": {
       "config": {
        "plotlyServerURL": "https://plot.ly"
       },
       "data": [
        {
         "alignmentgroup": "True",
         "bingroup": "x",
         "hovertemplate": "variable=EARNINGS<br>value=%{x}<br>count=%{y}<extra></extra>",
         "legendgroup": "EARNINGS",
         "marker": {
          "color": "green",
          "line": {
           "color": "black",
           "width": 1
          },
          "pattern": {
           "shape": ""
          }
         },
         "name": "EARNINGS",
         "nbinsx": 100,
         "offsetgroup": "EARNINGS",
         "orientation": "v",
         "showlegend": true,
         "type": "histogram",
         "x": [
          18.5,
          19.23,
          39.05,
          16.8,
          36.06,
          13.14,
          10,
          12.79,
          20.19,
          25.48,
          10,
          19.65,
          8,
          17.46,
          31.73,
          27.27,
          16.92,
          50.48,
          49.02,
          25.6,
          20,
          65,
          12.35,
          32.52,
          21.31,
          10,
          8,
          15,
          13.74,
          38.46,
          12,
          14.8,
          11.65,
          9.75,
          15.5,
          7.25,
          22,
          12.5,
          28.52,
          38,
          8,
          17.5,
          7.5,
          25.6,
          12.94,
          27,
          18.14,
          35.98,
          18.5,
          9.62,
          41.15,
          20,
          5.88,
          11,
          26.42,
          24.13,
          19.54,
          18.5,
          12,
          11.25,
          12.25,
          16.73,
          13.5,
          40,
          10.64,
          34.88,
          10,
          8.5,
          10,
          22.5,
          21.79,
          29.07,
          16.67,
          13.29,
          13.46,
          7.69,
          11,
          11.5,
          20,
          12.89,
          30.23,
          18.36,
          22.67,
          33.33,
          34.4,
          10,
          17.12,
          19,
          25.21,
          79.17,
          10.5,
          14.5,
          31.54,
          15.7,
          18.23,
          28.57,
          9.5,
          29.09,
          8.81,
          35.39,
          20,
          15,
          31.25,
          10,
          11.54,
          35.58,
          36,
          13.33,
          14.19,
          96.15,
          22.81,
          15,
          15.63,
          12.78,
          16,
          10,
          23.72,
          16.24,
          3.15,
          10,
          39.42,
          15,
          17.2,
          21.15,
          16.35,
          50.96,
          8.5,
          15,
          9.5,
          18.5,
          17.5,
          38.46,
          17.31,
          9.35,
          22,
          132.89,
          9.1,
          27.65,
          10.14,
          18,
          19.05,
          21,
          15.38,
          33.17,
          14.18,
          10.81,
          13.5,
          11.63,
          13.21,
          28.37,
          24.8,
          14.1,
          34.07,
          19.66,
          12.86,
          22.65,
          25.64,
          16.35,
          16,
          14,
          14,
          9.5,
          28,
          21.22,
          27.89,
          47.4,
          11.3,
          11.11,
          9.5,
          64.9,
          39,
          12,
          18.75,
          9.42,
          43.58,
          15,
          19.5,
          46.49,
          12.5,
          5.76,
          35,
          29.07,
          9,
          40,
          8.15,
          8.32,
          15,
          86.54,
          24,
          11.78,
          4.29,
          17.79,
          14.95,
          10.5,
          17.78,
          14.5,
          35,
          15,
          12.58,
          14,
          60.1,
          9.5,
          18.27,
          19.5,
          17.48,
          20.98,
          18.5,
          38.46,
          60,
          16.5,
          15,
          15,
          36.15,
          20.15,
          13.19,
          13,
          15.94,
          11.81,
          9,
          27.5,
          10,
          14.86,
          16.69,
          27,
          22,
          8.5,
          7.36,
          25.3,
          22,
          18.32,
          3.49,
          25,
          12.5,
          15,
          17.36,
          32.69,
          28.84,
          26.44,
          18,
          11,
          14,
          52,
          25.64,
          14,
          25.67,
          15,
          123.08,
          11.54,
          18.45,
          15.5,
          10.16,
          14.83,
          2.13,
          25,
          7.15,
          15,
          6.74,
          20.67,
          25.05,
          9.95,
          28.5,
          28.21,
          17.13,
          16,
          2.64,
          9.5,
          23.08,
          26.4,
          30.05,
          14.96,
          15,
          11,
          11,
          19.77,
          6.67,
          24.04,
          13.18,
          16.99,
          8.2,
          16.01,
          42.68,
          18,
          15.21,
          17.1,
          18.75,
          21.37,
          10.3,
          24.94,
          13,
          20.43,
          15.38,
          11.81,
          18.46,
          15.26,
          50,
          11.87,
          9.36,
          13.15,
          21.1,
          15.5,
          18.4,
          23,
          13.5,
          26.15,
          15.5,
          17,
          15.21,
          41.35,
          14.53,
          18.32,
          21.57,
          20.75,
          10,
          14.75,
          33.65,
          2.65,
          34.01,
          9.74,
          13.78,
          10,
          7.25,
          8,
          12,
          9.5,
          46.15,
          36.32,
          32.42,
          11.5,
          22,
          22.5,
          10.24,
          30,
          12.8,
          18,
          10,
          5,
          25,
          15,
          27,
          10.24,
          8.75,
          13.65,
          34,
          20.67,
          22.9,
          16,
          10.5,
          9,
          29.62,
          7.5,
          25.5,
          9.17,
          17,
          23.08,
          8,
          19.23,
          48.56,
          13.5,
          26.49,
          5,
          11.09,
          14.42,
          15,
          9.14,
          36.62,
          17,
          26.73,
          8.5,
          11,
          12,
          23.08,
          29.91,
          7.5,
          26.8,
          15.25,
          8.55,
          11.25,
          16.83,
          8,
          15.83,
          32.5,
          7.5,
          30.63,
          11.54,
          7.25,
          22.19,
          23.08,
          9.94,
          10,
          20,
          16.9,
          10,
          12.68,
          30,
          12,
          67.45,
          10,
          37.1,
          8,
          13.75,
          16.25,
          13.52,
          21.79,
          7.69,
          15.87,
          2.83,
          16.7,
          12,
          8,
          14,
          12,
          22,
          18.6,
          14.42,
          10,
          8.25,
          25,
          21.15,
          14.1,
          16.67,
          26,
          40.57,
          16,
          15.38,
          17.88,
          17.5,
          25.48,
          16.92,
          7.38,
          10,
          14.54,
          11.88,
          27.13,
          17.67,
          7.52,
          25.58,
          8.5,
          15,
          9,
          14.24,
          22,
          11.54,
          9,
          13.36,
          10,
          20.5,
          16.99,
          40,
          20.3,
          19.64,
          12.78,
          11,
          20,
          12.75,
          2.13,
          15,
          14.5,
          19.87,
          9.3,
          12.5,
          11.24,
          31,
          19.71,
          38.46,
          13.49,
          10,
          8.35,
          11.89,
          12,
          24.04,
          16.67,
          12.98,
          9.5,
          9.27,
          26,
          15.7,
          9.32,
          18.03,
          7.25,
          38.46,
          16,
          25,
          15,
          9.5,
          96.15,
          13.36,
          12.03,
          9.85,
          15,
          13,
          19.88,
          22.36,
          15,
          16.73,
          21.63,
          50,
          24.04,
          13,
          7.94,
          17.5,
          20,
          7.65,
          17.44,
          22.6,
          13,
          8,
          17,
          13.5,
          19,
          41.2,
          12,
          10.25,
          30,
          20.93,
          8.5,
          15.8,
          11.5,
          22.69,
          25.5,
          14.36,
          8,
          14,
          22.31,
          6.25,
          17,
          2.63,
          47,
          26,
          20.67,
          2.13,
          8,
          15.09,
          16.83,
          13,
          22.56,
          17.71,
          16.87,
          17.69,
          26,
          11.5,
          17,
          25,
          11.23,
          21.79,
          62.02,
          12.32,
          12.15,
          15.62,
          22.44,
          26,
          23,
          15,
          13.74,
          9,
          12,
          9.5,
          10,
          18.31,
          24,
          42,
          15.68,
          21,
          28,
          35,
          15.12,
          12.5,
          19.23,
          100,
          8.5,
          8,
          11.4,
          15,
          12,
          10,
          19.72,
          25,
          10.26,
          15,
          25,
          13,
          7.25,
          12.04,
          22.3,
          15.97,
          8.24,
          29.25,
          41,
          32.31,
          9,
          15.38,
          12,
          16.5,
          18.36,
          9.74,
          34.62,
          28.72,
          25.16,
          30.49,
          32,
          15.65,
          60.9,
          16.2,
          6.43,
          62,
          12.48,
          33.4,
          23.16,
          9,
          18,
          30,
          36.08,
          30.29,
          18.38,
          24.04,
          16.83,
          10,
          18.1,
          10,
          16.75,
          33.65,
          12,
          19.5,
          13.37,
          12.5,
          15.35,
          17,
          45,
          10.41,
          36.94,
          9.5,
          23.99,
          9.5,
          16,
          10,
          22.95,
          21,
          9.85,
          6.99,
          11.03,
          12.08,
          8.25,
          13.22,
          20.48,
          15,
          7.2,
          10,
          13,
          29.91,
          14.1,
          40.38,
          19.9,
          16,
          14.75,
          21,
          14,
          15,
          3.03,
          13.29,
          31.95,
          15.45,
          12,
          18,
          5.25,
          12,
          13,
          24,
          14,
          15,
          9,
          13.31,
          21.5,
          19.23,
          24.04,
          30,
          13.5,
          12,
          18.5,
          14.45,
          7.25,
          34.34,
          25.13,
          12.61,
          13,
          10.47,
          22,
          23.08,
          12.53,
          26.75,
          39.23,
          30.77,
          36.54,
          12,
          18.75,
          14.5,
          15,
          19.77,
          12.5,
          9.5,
          18,
          43.27,
          3.74,
          11.16,
          19.93,
          15,
          45.67,
          22.44,
          17.5,
          17.78,
          13.65,
          14.24,
          20.93,
          14.55,
          17,
          21,
          15.38,
          11.11,
          8.5,
          25.15,
          18.64,
          14.86,
          23.33,
          25.64,
          60,
          35.5,
          9.45,
          10,
          28.85,
          34.62,
          48.08,
          11.63,
          8.5,
          23,
          14.74,
          15,
          11.25,
          26.22,
          11.05,
          15,
          10,
          10,
          9.5,
          36.54,
          13.17,
          14.5,
          38.48,
          26.23,
          16.3,
          18.5,
          7.5,
          10.5,
          12.74,
          11.54,
          13.43,
          22.31,
          5.25,
          8.5,
          20.02,
          35,
          12.98,
          21.92,
          19.71,
          12,
          15,
          13,
          13.62,
          21,
          26.8,
          20,
          35,
          8.9,
          7.25,
          9,
          18.33,
          11.3,
          10,
          15,
          12,
          23,
          18,
          18.71,
          16,
          14.4,
          20,
          2.13,
          23.4,
          29.19,
          23.5,
          9,
          7.27,
          22,
          26,
          9,
          12,
          11,
          18,
          17.2,
          25.48,
          32.69,
          6,
          8.33,
          16.03,
          5,
          34,
          12.75,
          8.39,
          27.5,
          23.39,
          42.86,
          13.5,
          14,
          16,
          5.81,
          11.75,
          9,
          20.51,
          28,
          14,
          16,
          2.65,
          22.12,
          25,
          3.75,
          9,
          19.23,
          15,
          13,
          12,
          8,
          15.34,
          31.74,
          21.63,
          7.5,
          12,
          15.18,
          8.67,
          18.27,
          19.23,
          35.25,
          11.84,
          11.01,
          5.5,
          19.44,
          36.32,
          14.42,
          10,
          23.08,
          24,
          22,
          13.44,
          21.15,
          19.71,
          13,
          13.46,
          28.62,
          28.85,
          20.63,
          9.29,
          8.5,
          10.47,
          27.81,
          13.5,
          12.21,
          9.1,
          19.83,
          35.88,
          23.08,
          14.67,
          15,
          20.27,
          27.04,
          17.5,
          13.38,
          14.96,
          37.5,
          2.26,
          19.82,
          24.5,
          15.38,
          10,
          10.5,
          15.77,
          22.1,
          21.5,
          9,
          14.69,
          12.5,
          19.71,
          32.21,
          26.66,
          22.89,
          15.11,
          25,
          28,
          29,
          2.13,
          16,
          50,
          9.5,
          12,
          2.74,
          14.5,
          8.75,
          25.64,
          22.11,
          7.4,
          20,
          8.81,
          15.59,
          15,
          16.83,
          34,
          16.16,
          10,
          20.51,
          14.3,
          21.63,
          19.48,
          9.25,
          20.43,
          9.45,
          9.89,
          10,
          18.75,
          4.64,
          50.48,
          32.05,
          13,
          12.8,
          25.21,
          25.64,
          10.6,
          8,
          18,
          14.4,
          15.38,
          8.65,
          9,
          10.58,
          17.31,
          12.11,
          18.33,
          9.18,
          58.14,
          25,
          14.71,
          9,
          13.5,
          17.63,
          2.5,
          55,
          67,
          21.08,
          12.85,
          14.25,
          19.38,
          12.74,
          10.25,
          12,
          7.25,
          20,
          28.52,
          11.75,
          7.25,
          27.6,
          25.64,
          13.75,
          10.58,
          21.63,
          11.25,
          27.47,
          22.6,
          15.38,
          23.26,
          30.77,
          16.2,
          17.94,
          26.53,
          20.6,
          13.32,
          15.1,
          22.5,
          15.5,
          7.6,
          9.8,
          20.46,
          7.65,
          37,
          24.28,
          19.05,
          13.9,
          10.13,
          13.77,
          10,
          9.25,
          16.54,
          9,
          28.95,
          28.85,
          10.95,
          8.75,
          41,
          25,
          26.24,
          19.23,
          5,
          35,
          22.29,
          12.5,
          20.16,
          7.75,
          16.67,
          29.33,
          21.63,
          13,
          14.3,
          17,
          8.25,
          13.5,
          21.35,
          16,
          7.5,
          15,
          26.42,
          16,
          19,
          10.94,
          12,
          50,
          7,
          9,
          37.5,
          54.95,
          13.33,
          16,
          11.54,
          10.5,
          25.48,
          21,
          18.65,
          18,
          27.4,
          26.44,
          11.92,
          11.42,
          19.8,
          6,
          25,
          9,
          17.16,
          18,
          19,
          91.67,
          30,
          19.26,
          24,
          16.83,
          22.3,
          15,
          38.46,
          9,
          20.43,
          11.5,
          8.5,
          16.5,
          9,
          18.8,
          13.46,
          10.65,
          20,
          18.33,
          27.13,
          23,
          22,
          26.5,
          13,
          51,
          22.6,
          11,
          13.5,
          34.19,
          13.5,
          18.55,
          11.1,
          35.03,
          14.65,
          39.74,
          7.9,
          18.47,
          15,
          19,
          29.07,
          32.08,
          39.74,
          19.23,
          11.5,
          16.16,
          36.54,
          4.29,
          12.5,
          30,
          2.13,
          10,
          8.46,
          16,
          19,
          12,
          2.78,
          18,
          10.2,
          25,
          9.51,
          16.67,
          8.5,
          11,
          9.27,
          18.46,
          14,
          13,
          17.51,
          40.06,
          15,
          19.55,
          18.18,
          26.5,
          14.42,
          10,
          15.45,
          17.6,
          8.5,
          18.75,
          17.86,
          14,
          17.75,
          10.82,
          7.25,
          7.75,
          14.5,
          19.1,
          12.95,
          26.92,
          10.25,
          7.05,
          8.5,
          12,
          17.88,
          25.38,
          8.25,
          11.98,
          20,
          40,
          15.72,
          8,
          12,
          9,
          16.83,
          17.13,
          12,
          8.5,
          41.96,
          13.33,
          4.38,
          21.78,
          45,
          20,
          12.5,
          16,
          13.94,
          17,
          4.38,
          11,
          6.25,
          4.84,
          23.26,
          13.5,
          12.4,
          10,
          22.5,
          16.82,
          28.85,
          9.37,
          11.1,
          24.23,
          19.5,
          13.5,
          9.75,
          6.25,
          12.25,
          11.5,
          17.31,
          14.25,
          28.85,
          7.25,
          17.09,
          15.09,
          9,
          7.64,
          20,
          10,
          2,
          8.75,
          10,
          33.17,
          5.15,
          15.79,
          26.5,
          25,
          21.63,
          22.73,
          13.35,
          9.5,
          9.62,
          12.62,
          14,
          40.38,
          15,
          12.34,
          22,
          10,
          25,
          13,
          8.3,
          7.25,
          7.6,
          17.5,
          6.67,
          13.46,
          13.69,
          31,
          14,
          37.25,
          13.5,
          11,
          13.46,
          23.08,
          25.6,
          22,
          14.57,
          9,
          7.25,
          15.75,
          15,
          20.67,
          12.77,
          7.75,
          15.2,
          19.27,
          50,
          30,
          8.95,
          11.5,
          17.3,
          35.04,
          9.97,
          7.25,
          20.77,
          13.5,
          14.69,
          14.01,
          11,
          18.46,
          13.75,
          12.98,
          29.1,
          18.27,
          15.4,
          9.29,
          15.8,
          18.99,
          7.43,
          20.09,
          27.88,
          24.65,
          16.83,
          15,
          18.01,
          17.5,
          14.5,
          12,
          10.75,
          30.77,
          10,
          16.4,
          16.64,
          8,
          16,
          13.75,
          14,
          12.5,
          31.25,
          26.44,
          15.38,
          10.5,
          21.73,
          21.15,
          28.72,
          36.66,
          19.23,
          17,
          14.5,
          19,
          10,
          19,
          28.5,
          10.02,
          13.74,
          16.8,
          10.82,
          10.5,
          12,
          20,
          8,
          40.77,
          13.5,
          15,
          25,
          34.72,
          18.6,
          28.85,
          35,
          37,
          32.21,
          21.42,
          14.17,
          7.75,
          8,
          11.25,
          26,
          20,
          21.66,
          26.5,
          13.25,
          14.81,
          28.85,
          56.25,
          17.22,
          23.08,
          14.9,
          15,
          36.71,
          13.5,
          11,
          25,
          55.94,
          14.25,
          19.5,
          62.5,
          40.38,
          17.19,
          34.27,
          15,
          26.5,
          22.6,
          20,
          26.92,
          9,
          9.3,
          28.46,
          14,
          32,
          44.38,
          28.75,
          34.95,
          17.25,
          12.31,
          21,
          46.15,
          13.78,
          21.8,
          10.5,
          25,
          12,
          8,
          7.65,
          40.58,
          28.85,
          7,
          12.5,
          40,
          9.55,
          20.98,
          17.44,
          8.6,
          16.97,
          15.75,
          18.75,
          22.44,
          17,
          48.72,
          17.79,
          10.5,
          14.35,
          14.62,
          13.69,
          45.67,
          16.25,
          7.35,
          19.66,
          22.6,
          48.5,
          10.44,
          19.72,
          28.75,
          3.65,
          7.85,
          15.12,
          17,
          11.78,
          13.13,
          7.08,
          24.04,
          10.5,
          23.58,
          15.28,
          7.25,
          17.57,
          17.79,
          12,
          25,
          18.75,
          18.16,
          16,
          14.81,
          9,
          18.75,
          22,
          12,
          22.29,
          12.06,
          34.62,
          6.5,
          5,
          14.86,
          19.71,
          28.85,
          16.83,
          14,
          8.75,
          57,
          15.29,
          10.5,
          16.35,
          12.75,
          10.5,
          16.36,
          14.5,
          20.8,
          17.65,
          10.25,
          25,
          12.3,
          18.25,
          15.75,
          8.75,
          13.95,
          10,
          11,
          20.16,
          9,
          24.52,
          10.5,
          9.9,
          40,
          40,
          24.85,
          27.18,
          86.54,
          18.72,
          27.5,
          8.5,
          13,
          28.85,
          2.33,
          23.65,
          15,
          8.7,
          12,
          11.75,
          10.2,
          18.99,
          19.2,
          10,
          12,
          9,
          8,
          8.57,
          9.33,
          14
         ],
         "xaxis": "x",
         "yaxis": "y"
        }
       ],
       "layout": {
        "barmode": "relative",
        "legend": {
         "title": {
          "text": "variable"
         },
         "tracegroupgap": 0
        },
        "margin": {
         "t": 60
        },
        "template": {
         "data": {
          "bar": [
           {
            "error_x": {
             "color": "#2a3f5f"
            },
            "error_y": {
             "color": "#2a3f5f"
            },
            "marker": {
             "line": {
              "color": "#E5ECF6",
              "width": 0.5
             },
             "pattern": {
              "fillmode": "overlay",
              "size": 10,
              "solidity": 0.2
             }
            },
            "type": "bar"
           }
          ],
          "barpolar": [
           {
            "marker": {
             "line": {
              "color": "#E5ECF6",
              "width": 0.5
             },
             "pattern": {
              "fillmode": "overlay",
              "size": 10,
              "solidity": 0.2
             }
            },
            "type": "barpolar"
           }
          ],
          "carpet": [
           {
            "aaxis": {
             "endlinecolor": "#2a3f5f",
             "gridcolor": "white",
             "linecolor": "white",
             "minorgridcolor": "white",
             "startlinecolor": "#2a3f5f"
            },
            "baxis": {
             "endlinecolor": "#2a3f5f",
             "gridcolor": "white",
             "linecolor": "white",
             "minorgridcolor": "white",
             "startlinecolor": "#2a3f5f"
            },
            "type": "carpet"
           }
          ],
          "choropleth": [
           {
            "colorbar": {
             "outlinewidth": 0,
             "ticks": ""
            },
            "type": "choropleth"
           }
          ],
          "contour": [
           {
            "colorbar": {
             "outlinewidth": 0,
             "ticks": ""
            },
            "colorscale": [
             [
              0,
              "#0d0887"
             ],
             [
              0.1111111111111111,
              "#46039f"
             ],
             [
              0.2222222222222222,
              "#7201a8"
             ],
             [
              0.3333333333333333,
              "#9c179e"
             ],
             [
              0.4444444444444444,
              "#bd3786"
             ],
             [
              0.5555555555555556,
              "#d8576b"
             ],
             [
              0.6666666666666666,
              "#ed7953"
             ],
             [
              0.7777777777777778,
              "#fb9f3a"
             ],
             [
              0.8888888888888888,
              "#fdca26"
             ],
             [
              1,
              "#f0f921"
             ]
            ],
            "type": "contour"
           }
          ],
          "contourcarpet": [
           {
            "colorbar": {
             "outlinewidth": 0,
             "ticks": ""
            },
            "type": "contourcarpet"
           }
          ],
          "heatmap": [
           {
            "colorbar": {
             "outlinewidth": 0,
             "ticks": ""
            },
            "colorscale": [
             [
              0,
              "#0d0887"
             ],
             [
              0.1111111111111111,
              "#46039f"
             ],
             [
              0.2222222222222222,
              "#7201a8"
             ],
             [
              0.3333333333333333,
              "#9c179e"
             ],
             [
              0.4444444444444444,
              "#bd3786"
             ],
             [
              0.5555555555555556,
              "#d8576b"
             ],
             [
              0.6666666666666666,
              "#ed7953"
             ],
             [
              0.7777777777777778,
              "#fb9f3a"
             ],
             [
              0.8888888888888888,
              "#fdca26"
             ],
             [
              1,
              "#f0f921"
             ]
            ],
            "type": "heatmap"
           }
          ],
          "heatmapgl": [
           {
            "colorbar": {
             "outlinewidth": 0,
             "ticks": ""
            },
            "colorscale": [
             [
              0,
              "#0d0887"
             ],
             [
              0.1111111111111111,
              "#46039f"
             ],
             [
              0.2222222222222222,
              "#7201a8"
             ],
             [
              0.3333333333333333,
              "#9c179e"
             ],
             [
              0.4444444444444444,
              "#bd3786"
             ],
             [
              0.5555555555555556,
              "#d8576b"
             ],
             [
              0.6666666666666666,
              "#ed7953"
             ],
             [
              0.7777777777777778,
              "#fb9f3a"
             ],
             [
              0.8888888888888888,
              "#fdca26"
             ],
             [
              1,
              "#f0f921"
             ]
            ],
            "type": "heatmapgl"
           }
          ],
          "histogram": [
           {
            "marker": {
             "pattern": {
              "fillmode": "overlay",
              "size": 10,
              "solidity": 0.2
             }
            },
            "type": "histogram"
           }
          ],
          "histogram2d": [
           {
            "colorbar": {
             "outlinewidth": 0,
             "ticks": ""
            },
            "colorscale": [
             [
              0,
              "#0d0887"
             ],
             [
              0.1111111111111111,
              "#46039f"
             ],
             [
              0.2222222222222222,
              "#7201a8"
             ],
             [
              0.3333333333333333,
              "#9c179e"
             ],
             [
              0.4444444444444444,
              "#bd3786"
             ],
             [
              0.5555555555555556,
              "#d8576b"
             ],
             [
              0.6666666666666666,
              "#ed7953"
             ],
             [
              0.7777777777777778,
              "#fb9f3a"
             ],
             [
              0.8888888888888888,
              "#fdca26"
             ],
             [
              1,
              "#f0f921"
             ]
            ],
            "type": "histogram2d"
           }
          ],
          "histogram2dcontour": [
           {
            "colorbar": {
             "outlinewidth": 0,
             "ticks": ""
            },
            "colorscale": [
             [
              0,
              "#0d0887"
             ],
             [
              0.1111111111111111,
              "#46039f"
             ],
             [
              0.2222222222222222,
              "#7201a8"
             ],
             [
              0.3333333333333333,
              "#9c179e"
             ],
             [
              0.4444444444444444,
              "#bd3786"
             ],
             [
              0.5555555555555556,
              "#d8576b"
             ],
             [
              0.6666666666666666,
              "#ed7953"
             ],
             [
              0.7777777777777778,
              "#fb9f3a"
             ],
             [
              0.8888888888888888,
              "#fdca26"
             ],
             [
              1,
              "#f0f921"
             ]
            ],
            "type": "histogram2dcontour"
           }
          ],
          "mesh3d": [
           {
            "colorbar": {
             "outlinewidth": 0,
             "ticks": ""
            },
            "type": "mesh3d"
           }
          ],
          "parcoords": [
           {
            "line": {
             "colorbar": {
              "outlinewidth": 0,
              "ticks": ""
             }
            },
            "type": "parcoords"
           }
          ],
          "pie": [
           {
            "automargin": true,
            "type": "pie"
           }
          ],
          "scatter": [
           {
            "fillpattern": {
             "fillmode": "overlay",
             "size": 10,
             "solidity": 0.2
            },
            "type": "scatter"
           }
          ],
          "scatter3d": [
           {
            "line": {
             "colorbar": {
              "outlinewidth": 0,
              "ticks": ""
             }
            },
            "marker": {
             "colorbar": {
              "outlinewidth": 0,
              "ticks": ""
             }
            },
            "type": "scatter3d"
           }
          ],
          "scattercarpet": [
           {
            "marker": {
             "colorbar": {
              "outlinewidth": 0,
              "ticks": ""
             }
            },
            "type": "scattercarpet"
           }
          ],
          "scattergeo": [
           {
            "marker": {
             "colorbar": {
              "outlinewidth": 0,
              "ticks": ""
             }
            },
            "type": "scattergeo"
           }
          ],
          "scattergl": [
           {
            "marker": {
             "colorbar": {
              "outlinewidth": 0,
              "ticks": ""
             }
            },
            "type": "scattergl"
           }
          ],
          "scattermapbox": [
           {
            "marker": {
             "colorbar": {
              "outlinewidth": 0,
              "ticks": ""
             }
            },
            "type": "scattermapbox"
           }
          ],
          "scatterpolar": [
           {
            "marker": {
             "colorbar": {
              "outlinewidth": 0,
              "ticks": ""
             }
            },
            "type": "scatterpolar"
           }
          ],
          "scatterpolargl": [
           {
            "marker": {
             "colorbar": {
              "outlinewidth": 0,
              "ticks": ""
             }
            },
            "type": "scatterpolargl"
           }
          ],
          "scatterternary": [
           {
            "marker": {
             "colorbar": {
              "outlinewidth": 0,
              "ticks": ""
             }
            },
            "type": "scatterternary"
           }
          ],
          "surface": [
           {
            "colorbar": {
             "outlinewidth": 0,
             "ticks": ""
            },
            "colorscale": [
             [
              0,
              "#0d0887"
             ],
             [
              0.1111111111111111,
              "#46039f"
             ],
             [
              0.2222222222222222,
              "#7201a8"
             ],
             [
              0.3333333333333333,
              "#9c179e"
             ],
             [
              0.4444444444444444,
              "#bd3786"
             ],
             [
              0.5555555555555556,
              "#d8576b"
             ],
             [
              0.6666666666666666,
              "#ed7953"
             ],
             [
              0.7777777777777778,
              "#fb9f3a"
             ],
             [
              0.8888888888888888,
              "#fdca26"
             ],
             [
              1,
              "#f0f921"
             ]
            ],
            "type": "surface"
           }
          ],
          "table": [
           {
            "cells": {
             "fill": {
              "color": "#EBF0F8"
             },
             "line": {
              "color": "white"
             }
            },
            "header": {
             "fill": {
              "color": "#C8D4E3"
             },
             "line": {
              "color": "white"
             }
            },
            "type": "table"
           }
          ]
         },
         "layout": {
          "annotationdefaults": {
           "arrowcolor": "#2a3f5f",
           "arrowhead": 0,
           "arrowwidth": 1
          },
          "autotypenumbers": "strict",
          "coloraxis": {
           "colorbar": {
            "outlinewidth": 0,
            "ticks": ""
           }
          },
          "colorscale": {
           "diverging": [
            [
             0,
             "#8e0152"
            ],
            [
             0.1,
             "#c51b7d"
            ],
            [
             0.2,
             "#de77ae"
            ],
            [
             0.3,
             "#f1b6da"
            ],
            [
             0.4,
             "#fde0ef"
            ],
            [
             0.5,
             "#f7f7f7"
            ],
            [
             0.6,
             "#e6f5d0"
            ],
            [
             0.7,
             "#b8e186"
            ],
            [
             0.8,
             "#7fbc41"
            ],
            [
             0.9,
             "#4d9221"
            ],
            [
             1,
             "#276419"
            ]
           ],
           "sequential": [
            [
             0,
             "#0d0887"
            ],
            [
             0.1111111111111111,
             "#46039f"
            ],
            [
             0.2222222222222222,
             "#7201a8"
            ],
            [
             0.3333333333333333,
             "#9c179e"
            ],
            [
             0.4444444444444444,
             "#bd3786"
            ],
            [
             0.5555555555555556,
             "#d8576b"
            ],
            [
             0.6666666666666666,
             "#ed7953"
            ],
            [
             0.7777777777777778,
             "#fb9f3a"
            ],
            [
             0.8888888888888888,
             "#fdca26"
            ],
            [
             1,
             "#f0f921"
            ]
           ],
           "sequentialminus": [
            [
             0,
             "#0d0887"
            ],
            [
             0.1111111111111111,
             "#46039f"
            ],
            [
             0.2222222222222222,
             "#7201a8"
            ],
            [
             0.3333333333333333,
             "#9c179e"
            ],
            [
             0.4444444444444444,
             "#bd3786"
            ],
            [
             0.5555555555555556,
             "#d8576b"
            ],
            [
             0.6666666666666666,
             "#ed7953"
            ],
            [
             0.7777777777777778,
             "#fb9f3a"
            ],
            [
             0.8888888888888888,
             "#fdca26"
            ],
            [
             1,
             "#f0f921"
            ]
           ]
          },
          "colorway": [
           "#636efa",
           "#EF553B",
           "#00cc96",
           "#ab63fa",
           "#FFA15A",
           "#19d3f3",
           "#FF6692",
           "#B6E880",
           "#FF97FF",
           "#FECB52"
          ],
          "font": {
           "color": "#2a3f5f"
          },
          "geo": {
           "bgcolor": "white",
           "lakecolor": "white",
           "landcolor": "#E5ECF6",
           "showlakes": true,
           "showland": true,
           "subunitcolor": "white"
          },
          "hoverlabel": {
           "align": "left"
          },
          "hovermode": "closest",
          "mapbox": {
           "style": "light"
          },
          "paper_bgcolor": "white",
          "plot_bgcolor": "#E5ECF6",
          "polar": {
           "angularaxis": {
            "gridcolor": "white",
            "linecolor": "white",
            "ticks": ""
           },
           "bgcolor": "#E5ECF6",
           "radialaxis": {
            "gridcolor": "white",
            "linecolor": "white",
            "ticks": ""
           }
          },
          "scene": {
           "xaxis": {
            "backgroundcolor": "#E5ECF6",
            "gridcolor": "white",
            "gridwidth": 2,
            "linecolor": "white",
            "showbackground": true,
            "ticks": "",
            "zerolinecolor": "white"
           },
           "yaxis": {
            "backgroundcolor": "#E5ECF6",
            "gridcolor": "white",
            "gridwidth": 2,
            "linecolor": "white",
            "showbackground": true,
            "ticks": "",
            "zerolinecolor": "white"
           },
           "zaxis": {
            "backgroundcolor": "#E5ECF6",
            "gridcolor": "white",
            "gridwidth": 2,
            "linecolor": "white",
            "showbackground": true,
            "ticks": "",
            "zerolinecolor": "white"
           }
          },
          "shapedefaults": {
           "line": {
            "color": "#2a3f5f"
           }
          },
          "ternary": {
           "aaxis": {
            "gridcolor": "white",
            "linecolor": "white",
            "ticks": ""
           },
           "baxis": {
            "gridcolor": "white",
            "linecolor": "white",
            "ticks": ""
           },
           "bgcolor": "#E5ECF6",
           "caxis": {
            "gridcolor": "white",
            "linecolor": "white",
            "ticks": ""
           }
          },
          "title": {
           "x": 0.05
          },
          "xaxis": {
           "automargin": true,
           "gridcolor": "white",
           "linecolor": "white",
           "ticks": "",
           "title": {
            "standoff": 15
           },
           "zerolinecolor": "white",
           "zerolinewidth": 2
          },
          "yaxis": {
           "automargin": true,
           "gridcolor": "white",
           "linecolor": "white",
           "ticks": "",
           "title": {
            "standoff": 15
           },
           "zerolinecolor": "white",
           "zerolinewidth": 2
          }
         }
        },
        "title": {
         "text": "The National Longitudinal Survey of Youth 1997-2011"
        },
        "xaxis": {
         "anchor": "y",
         "domain": [
          0,
          1
         ],
         "title": {
          "text": "EARNINGS"
         }
        },
        "yaxis": {
         "anchor": "x",
         "domain": [
          0,
          1
         ],
         "title": {
          "text": "Nr. of People"
         }
        }
       }
      }
     },
     "metadata": {},
     "output_type": "display_data"
    }
   ],
   "source": [
    "# Using Plotly to visualise the Years of Earnings\n",
    "\n",
    "fig = px.histogram(df_data['EARNINGS'], nbins=100)\n",
    "fig.update_layout(\n",
    "    xaxis_title='EARNINGS',\n",
    "    yaxis_title='Nr. of People',\n",
    "    title='The National Longitudinal Survey of Youth 1997-2011',\n",
    ")\n",
    "fig.update_traces(marker_line_width=1, \n",
    "                  marker_line_color='black',\n",
    "                  marker_color='green')\n",
    "\n",
    "\n",
    "fig.show()"
   ]
  },
  {
   "cell_type": "code",
   "execution_count": 17,
   "metadata": {},
   "outputs": [
    {
     "data": {
      "image/png": "[encoded data removed]",
      "text/plain": [
       "<Figure size 750x750 with 12 Axes>"
      ]
     },
     "metadata": {},
     "output_type": "display_data"
    }
   ],
   "source": [
    "# visualise how the 3 main variables relate to each other\n",
    "sns.pairplot(df_data[[\"S\",\"EXP\",\"EARNINGS\"]])\n",
    "plt.show()"
   ]
  },
  {
   "cell_type": "code",
   "execution_count": 33,
   "metadata": {},
   "outputs": [
    {
     "data": {
      "image/png": "[encoded data removed]",
      "text/plain": [
       "<Figure size 800x800 with 3 Axes>"
      ]
     },
     "metadata": {},
     "output_type": "display_data"
    }
   ],
   "source": [
    "with sns.axes_style('darkgrid'):\n",
    "  sns.jointplot(x=df_data['S'], \n",
    "                y=df_data['EARNINGS'], \n",
    "                height=8, \n",
    "                kind='reg'\n",
    "                )\n",
    "plt.show()\n",
    "\n",
    "# on the average, EARNINGS go up when you stay longer in SCHOOL"
   ]
  },
  {
   "cell_type": "code",
   "execution_count": 18,
   "metadata": {},
   "outputs": [
    {
     "data": {
      "image/png": "[encoded data removed]",
      "text/plain": [
       "<Figure size 800x800 with 3 Axes>"
      ]
     },
     "metadata": {},
     "output_type": "display_data"
    }
   ],
   "source": [
    "with sns.axes_style('darkgrid'):\n",
    "  sns.jointplot(x=df_data['EXP'], \n",
    "                y=df_data['EARNINGS'], \n",
    "                height=8, \n",
    "                kind='reg'\n",
    "                )\n",
    "plt.show()\n",
    "\n",
    "# on the average, EARNINGS does not increase with EXPERIENCE"
   ]
  },
  {
   "cell_type": "code",
   "execution_count": 19,
   "metadata": {},
   "outputs": [
    {
     "data": {
      "image/png": "[encoded data removed]",
      "text/plain": [
       "<Figure size 800x800 with 3 Axes>"
      ]
     },
     "metadata": {},
     "output_type": "display_data"
    }
   ],
   "source": [
    "with sns.axes_style('darkgrid'):\n",
    "  sns.jointplot(x=df_data['AGE'], \n",
    "                y=df_data['EARNINGS'], \n",
    "                height=8, \n",
    "                kind='scatter',\n",
    "                color='deeppink', \n",
    "                joint_kws={'alpha':0.5})\n",
    "\n",
    "plt.show()\n",
    "\n",
    "\n",
    "# Age VS Earnings"
   ]
  },
  {
   "cell_type": "markdown",
   "metadata": {
    "id": "9i4zHYG4nhDL"
   },
   "source": [
    "# Split Training & Test Dataset\n",
    "\n",
    "We *can't* use all the entries in our dataset to train our model. Keep 20% of the data for later as a testing dataset (out-of-sample data).  "
   ]
  },
  {
   "cell_type": "code",
   "execution_count": 20,
   "metadata": {
    "id": "M_OfRSyunkA1"
   },
   "outputs": [],
   "source": [
    "features = df_data[[\"S\"]]\n",
    "target = df_data[\"EARNINGS\"]\n",
    "\n",
    "x_train, x_test, y_train, y_test = train_test_split(features, target, test_size=0.2, random_state=10)"
   ]
  },
  {
   "cell_type": "code",
   "execution_count": 21,
   "metadata": {},
   "outputs": [
    {
     "name": "stdout",
     "output_type": "stream",
     "text": [
      "       S\n",
      "179   14\n",
      "142   16\n",
      "1626  10\n",
      "707   12\n",
      "1288  18\n",
      "...   ..\n",
      "1762  17\n",
      "1660   9\n",
      "527   14\n",
      "1263  16\n",
      "1541  16\n",
      "\n",
      "[1189 rows x 1 columns]\n"
     ]
    }
   ],
   "source": [
    "print(x_train)\n",
    "#print(x_test)\n",
    "#print(y_train)\n",
    "#print(y_test)"
   ]
  },
  {
   "cell_type": "markdown",
   "metadata": {
    "id": "EM99NOH0noFS"
   },
   "source": [
    "# Simple Linear Regression\n",
    "\n",
    "Only use the years of schooling to predict earnings. Use sklearn to run the regression on the training dataset. How high is the r-squared for the regression on the training data? "
   ]
  },
  {
   "cell_type": "code",
   "execution_count": 22,
   "metadata": {
    "id": "J_MViuoNnvHf"
   },
   "outputs": [
    {
     "name": "stdout",
     "output_type": "stream",
     "text": [
      "Training data r-squared: 0.08085050566060015\n",
      "Test data r-squared: 0.07259152432544957\n"
     ]
    }
   ],
   "source": [
    "regression = LinearRegression()\n",
    "regression.fit(x_train, y_train)\n",
    "\n",
    "rsquared = regression.score(x_train, y_train)\n",
    "print(f'Training data r-squared: {rsquared}')\n",
    "\n",
    "rsquared = regression.score(x_test, y_test)\n",
    "print(f'Test data r-squared: {rsquared}')"
   ]
  },
  {
   "cell_type": "markdown",
   "metadata": {
    "id": "s2TeWKs7oJSa"
   },
   "source": [
    "### Evaluate the Coefficients of the Model\n",
    "\n",
    "Here we do a sense check on our regression coefficients. The first thing to look for is if the coefficients have the expected sign (positive or negative). \n",
    "\n",
    "Interpret the regression. How many extra dollars can one expect to earn for an additional year of schooling?"
   ]
  },
  {
   "cell_type": "code",
   "execution_count": 23,
   "metadata": {
    "id": "QmhzZAmAoW4t"
   },
   "outputs": [
    {
     "name": "stdout",
     "output_type": "stream",
     "text": [
      "Coefficient of S: 1.219177982001225\n",
      "For each additional year of schooling, one can expect to earn approximately $1.22 more, on average, holding all other variables constant.\n"
     ]
    }
   ],
   "source": [
    "\n",
    "\n",
    "# Get the coefficient for the \"S\" variable. Since there is only one variable in the features, the array will have only one element\n",
    "coefficient_s = regression.coef_[0]\n",
    "print(f\"Coefficient of S: {coefficient_s}\")\n",
    "# Interpret the coefficient\n",
    "if coefficient_s > 0:\n",
    "    print(f\"For each additional year of schooling, one can expect to earn approximately ${coefficient_s:.2f} more, on average, holding all other variables constant.\")\n",
    "else:\n",
    "    print(f\"For each additional year of schooling, one can expect to earn approximately ${abs(coefficient_s):.2f} less, on average, holding all other variables constant.\")\n"
   ]
  },
  {
   "cell_type": "code",
   "execution_count": null,
   "metadata": {
    "id": "e9hpdAt3oWnq"
   },
   "outputs": [],
   "source": []
  },
  {
   "cell_type": "markdown",
   "metadata": {
    "id": "WIyMPXXYobx8"
   },
   "source": [
    "### Analyse the Estimated Values & Regression Residuals\n",
    "\n",
    "How good our regression is also depends on the residuals - the difference between the model's predictions ( 𝑦̂ 𝑖 ) and the true values ( 𝑦𝑖 ) inside y_train. Do you see any patterns in the distribution of the residuals?"
   ]
  },
  {
   "cell_type": "code",
   "execution_count": 24,
   "metadata": {
    "id": "khkgscweosP_"
   },
   "outputs": [
    {
     "data": {
      "image/png": "[encoded data removed]",
      "text/plain": [
       "<Figure size 640x480 with 1 Axes>"
      ]
     },
     "metadata": {},
     "output_type": "display_data"
    }
   ],
   "source": [
    "\n",
    "\n",
    "# Get the predicted values for the training set\n",
    "y_pred_train = regression.predict(x_train)\n",
    "\n",
    "# Calculate the residuals\n",
    "residuals = y_train - y_pred_train\n",
    "\n",
    "# Plot a histogram of the residuals\n",
    "plt.hist(residuals, bins=20)\n",
    "plt.xlabel('Residuals')\n",
    "plt.ylabel('Frequency')\n",
    "plt.title('Histogram of Residuals')\n",
    "plt.show()\n"
   ]
  },
  {
   "cell_type": "code",
   "execution_count": null,
   "metadata": {
    "id": "m_diDXSXotm6"
   },
   "outputs": [],
   "source": []
  },
  {
   "cell_type": "code",
   "execution_count": null,
   "metadata": {
    "id": "6DfAEUWNosHd"
   },
   "outputs": [],
   "source": []
  },
  {
   "cell_type": "markdown",
   "metadata": {
    "id": "zNBuJ1iBnvpl"
   },
   "source": [
    "# Multivariable Regression\n",
    "\n",
    "Now use both years of schooling and the years work experience to predict earnings. How high is the r-squared for the regression on the training data? "
   ]
  },
  {
   "cell_type": "code",
   "execution_count": 25,
   "metadata": {
    "id": "Ihq-C4looCSM"
   },
   "outputs": [
    {
     "name": "stdout",
     "output_type": "stream",
     "text": [
      "Training data r-squared: 0.11705510273476538\n",
      "Test data r-squared: 0.08728661136725502\n"
     ]
    }
   ],
   "source": [
    "features = df_data[[\"S\", \"EXP\"]]\n",
    "target = df_data[\"EARNINGS\"]\n",
    "\n",
    "x_train, x_test, y_train, y_test = train_test_split(features, target, test_size=0.2, random_state=10)\n",
    "\n",
    "regression = LinearRegression()\n",
    "regression.fit(x_train, y_train)\n",
    "\n",
    "rsquared = regression.score(x_train, y_train)\n",
    "print(f'Training data r-squared: {rsquared}')\n",
    "\n",
    "rsquared = regression.score(x_test, y_test)\n",
    "print(f'Test data r-squared: {rsquared}')"
   ]
  },
  {
   "cell_type": "code",
   "execution_count": null,
   "metadata": {
    "id": "dRhB7Iwboyfq"
   },
   "outputs": [],
   "source": []
  },
  {
   "cell_type": "markdown",
   "metadata": {
    "id": "nHDtunM0oyuk"
   },
   "source": [
    "### Evaluate the Coefficients of the Model"
   ]
  },
  {
   "cell_type": "code",
   "execution_count": 26,
   "metadata": {
    "id": "5vasqInIoydB"
   },
   "outputs": [
    {
     "name": "stdout",
     "output_type": "stream",
     "text": [
      "Coefficient of S: 1.7942217526678976\n",
      "Coefficient of EXP: 0.9790068858450054\n"
     ]
    }
   ],
   "source": [
    "coefficient = regression.coef_\n",
    "print(f\"Coefficient of S: {coefficient[0]}\")\n",
    "\n",
    "print(f\"Coefficient of EXP: {coefficient[1]}\")"
   ]
  },
  {
   "cell_type": "markdown",
   "metadata": {
    "id": "Yv8q90IYou2Q"
   },
   "source": [
    "### Analyse the Estimated Values & Regression Residuals"
   ]
  },
  {
   "cell_type": "code",
   "execution_count": 27,
   "metadata": {
    "id": "8NmXnsxfowkI"
   },
   "outputs": [
    {
     "data": {
      "image/png": "[encoded data removed]",
      "text/plain": [
       "<Figure size 640x480 with 1 Axes>"
      ]
     },
     "metadata": {},
     "output_type": "display_data"
    }
   ],
   "source": [
    "# Get the predicted values for the training set\n",
    "y_pred_train = regression.predict(x_train)\n",
    "\n",
    "# Calculate the residuals\n",
    "residuals = y_train - y_pred_train\n",
    "\n",
    "# Plot a histogram of the residuals\n",
    "plt.hist(residuals, bins=20)\n",
    "plt.xlabel('Residuals')\n",
    "plt.ylabel('Frequency')\n",
    "plt.title('Histogram of Residuals')\n",
    "plt.show()"
   ]
  },
  {
   "cell_type": "code",
   "execution_count": null,
   "metadata": {
    "id": "0ZZ1e0spo5o1"
   },
   "outputs": [],
   "source": []
  },
  {
   "cell_type": "markdown",
   "metadata": {
    "id": "YWNeoqPLpjVb"
   },
   "source": [
    "# Use Your Model to Make a Prediction\n",
    "\n",
    "How much can someone with a bachelors degree (12 + 4) years of schooling and 5 years work experience expect to earn in 2011?"
   ]
  },
  {
   "cell_type": "code",
   "execution_count": 28,
   "metadata": {
    "id": "Mof-14lCpv60"
   },
   "outputs": [
    {
     "data": {
      "text/html": [
       "<div>\n",
       "<style scoped>\n",
       "    .dataframe tbody tr th:only-of-type {\n",
       "        vertical-align: middle;\n",
       "    }\n",
       "\n",
       "    .dataframe tbody tr th {\n",
       "        vertical-align: top;\n",
       "    }\n",
       "\n",
       "    .dataframe thead th {\n",
       "        text-align: right;\n",
       "    }\n",
       "</style>\n",
       "<table border=\"1\" class=\"dataframe\">\n",
       "  <thead>\n",
       "    <tr style=\"text-align: right;\">\n",
       "      <th></th>\n",
       "      <th>S</th>\n",
       "      <th>EXP</th>\n",
       "    </tr>\n",
       "  </thead>\n",
       "  <tbody>\n",
       "    <tr>\n",
       "      <th>0</th>\n",
       "      <td>16</td>\n",
       "      <td>5</td>\n",
       "    </tr>\n",
       "  </tbody>\n",
       "</table>\n",
       "</div>"
      ],
      "text/plain": [
       "    S  EXP\n",
       "0  16    5"
      ]
     },
     "execution_count": 28,
     "metadata": {},
     "output_type": "execute_result"
    }
   ],
   "source": [
    "new_data = {\n",
    "    \"S\":[16],\n",
    "    \"EXP\":[5]\n",
    "}\n",
    "new_df = pd.DataFrame(new_data, columns=[\"S\", \"EXP\"])\n",
    "new_df"
   ]
  },
  {
   "cell_type": "code",
   "execution_count": 34,
   "metadata": {
    "id": "3htX8_SBpvyb"
   },
   "outputs": [
    {
     "name": "stdout",
     "output_type": "stream",
     "text": [
      "Someone with a bachelors degree (12 + 4) years of schooling and 5 years work experience expect to earn: 19.714790361272613  (PER HOUR)\n"
     ]
    }
   ],
   "source": [
    "new_prediction = regression.predict(new_df)\n",
    "print(f\"Someone with a bachelors degree (12 + 4) years of schooling and 5 years work experience expect to earn: {new_prediction[0]}  (PER HOUR)\")"
   ]
  },
  {
   "cell_type": "markdown",
   "metadata": {
    "id": "TIYI-eQepDSQ"
   },
   "source": [
    "# Experiment and Investigate Further\n",
    "\n",
    "Which other features could you consider adding to further improve the regression to better predict earnings? "
   ]
  },
  {
   "cell_type": "code",
   "execution_count": 60,
   "metadata": {
    "id": "sd07-pKopJgo"
   },
   "outputs": [
    {
     "name": "stdout",
     "output_type": "stream",
     "text": [
      "Training data r-squared: 0.11954713290154317\n",
      "Test data r-squared: 0.07928745143327898\n"
     ]
    }
   ],
   "source": [
    "# Adding AGE to the features to see the impact.\n",
    "\n",
    "features = df_data[[\"S\", \"EXP\", \"AGE\"]]\n",
    "target = df_data[\"EARNINGS\"]\n",
    "\n",
    "x_train, x_test, y_train, y_test = train_test_split(features, target, test_size=0.2, random_state=10)\n",
    "\n",
    "regression = LinearRegression()\n",
    "regression.fit(x_train, y_train)\n",
    "\n",
    "rsquared = regression.score(x_train, y_train)\n",
    "print(f'Training data r-squared: {rsquared}')\n",
    "\n",
    "rsquared = regression.score(x_test, y_test)\n",
    "print(f'Test data r-squared: {rsquared}')"
   ]
  },
  {
   "cell_type": "code",
   "execution_count": null,
   "metadata": {
    "id": "Fohe2-Rdp1MO"
   },
   "outputs": [],
   "source": [
    "# AGE did not make any impact to model accuracy on new data"
   ]
  }
 ],
 "metadata": {
  "colab": {
   "name": "Determinants of Earnings (start).ipynb",
   "provenance": [],
   "toc_visible": true
  },
  "kernelspec": {
   "display_name": "Python 3 (ipykernel)",
   "language": "python",
   "name": "python3"
  },
  "language_info": {
   "codemirror_mode": {
    "name": "ipython",
    "version": 3
   },
   "file_extension": ".py",
   "mimetype": "text/x-python",
   "name": "python",
   "nbconvert_exporter": "python",
   "pygments_lexer": "ipython3",
   "version": "3.11.4"
  }
 },
 "nbformat": 4,
 "nbformat_minor": 4
}
